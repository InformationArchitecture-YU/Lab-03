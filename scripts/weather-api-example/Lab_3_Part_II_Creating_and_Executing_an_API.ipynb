{
  "cells": [
    {
      "cell_type": "markdown",
      "metadata": {
        "id": "CojT76QDBmhP"
      },
      "source": [
        "# Fetching Weather Data and Uploading to AWS S3\n",
        "\n",
        "This guide provides steps for fetching weather data using the OpenWeatherMap API and then uploading the data to an Amazon S3 bucket using Python.\n",
        "\n",
        "## Step 1: Obtain an API Key from OpenWeatherMap\n",
        "\n",
        "1. Register on the [OpenWeatherMap website](https://openweathermap.org/) and create an account.\n",
        "2. Find and copy the API key from your account dashboard.\n",
        "\n",
        "## Step 2: Write Python Function to Fetch Weather Data"
      ]
    },
    {
      "cell_type": "code",
      "execution_count": 180,
      "metadata": {
        "id": "IhtMAOMHBiyt"
      },
      "outputs": [],
      "source": [
        "import requests\n",
        "\n",
        "def get_weather_data(city, api_key):\n",
        "    base_url = \"https://api.openweathermap.org/data/2.5/weather\"\n",
        "    params = {'q': city, 'appid': api_key}\n",
        "    response = requests.get(base_url, params=params)\n",
        "    if response.status_code == 200:\n",
        "        return response.json()\n",
        "    else:\n",
        "        raise Exception(\"Failed to fetch weather data\")"
      ]
    },
    {
      "cell_type": "markdown",
      "metadata": {
        "id": "qGIMEi1-Bvbm"
      },
      "source": [
        "## Step 3: Set Up AWS Credentials for S3 Access\n",
        "* Install Boto3 using pip install boto3.\n",
        "* Configure AWS credentials (AWS Access Key ID and Secret Access Key)."
      ]
    },
    {
      "cell_type": "code",
      "execution_count": 181,
      "metadata": {
        "colab": {
          "base_uri": "https://localhost:8080/"
        },
        "id": "lZW3uJbuB489",
        "outputId": "aebe3abe-9c4c-4927-e4d0-b83aba818bf7"
      },
      "outputs": [
        {
          "name": "stdout",
          "output_type": "stream",
          "text": [
            "Requirement already satisfied: boto3 in c:\\users\\mudas\\anaconda3\\lib\\site-packages (1.21.32)\n",
            "Requirement already satisfied: botocore<1.25.0,>=1.24.32 in c:\\users\\mudas\\anaconda3\\lib\\site-packages (from boto3) (1.24.46)\n",
            "Requirement already satisfied: jmespath<2.0.0,>=0.7.1 in c:\\users\\mudas\\anaconda3\\lib\\site-packages (from boto3) (0.10.0)\n",
            "Requirement already satisfied: s3transfer<0.6.0,>=0.5.0 in c:\\users\\mudas\\anaconda3\\lib\\site-packages (from boto3) (0.5.2)\n",
            "Requirement already satisfied: python-dateutil<3.0.0,>=2.1 in c:\\users\\mudas\\anaconda3\\lib\\site-packages (from botocore<1.25.0,>=1.24.32->boto3) (2.8.2)\n",
            "Requirement already satisfied: urllib3<1.27,>=1.25.4 in c:\\users\\mudas\\anaconda3\\lib\\site-packages (from botocore<1.25.0,>=1.24.32->boto3) (1.26.9)\n",
            "Requirement already satisfied: six>=1.5 in c:\\users\\mudas\\anaconda3\\lib\\site-packages (from python-dateutil<3.0.0,>=2.1->botocore<1.25.0,>=1.24.32->boto3) (1.16.0)\n"
          ]
        }
      ],
      "source": [
        "!pip install boto3"
      ]
    },
    {
      "cell_type": "markdown",
      "metadata": {
        "id": "vnn-pfSWCXfi"
      },
      "source": [
        "## Step 4: Write Python Function to Upload Data to S3\n"
      ]
    },
    {
      "cell_type": "code",
      "execution_count": 182,
      "metadata": {
        "id": "Ja7gCT4CCVt4"
      },
      "outputs": [],
      "source": [
        "import boto3\n",
        "import json\n",
        "import pandas as pd\n",
        "\n",
        "def upload_to_s3(bucket_name, file_name, data):\n",
        "    s3 = boto3.client('s3')\n",
        "    s3.put_object(Bucket=bucket_name, Key=file_name, Body=json.dumps(data))"
      ]
    },
    {
      "cell_type": "markdown",
      "metadata": {
        "id": "G795_fa1CcgS"
      },
      "source": [
        "## Step 5: Combine the Functions in a Script\n"
      ]
    },
    {
      "cell_type": "code",
      "execution_count": 183,
      "metadata": {
        "colab": {
          "base_uri": "https://localhost:8080/"
        },
        "id": "qObZbAK8Ce9C",
        "outputId": "05c3b5f4-c8d8-4dc7-9cad-cb833493f762"
      },
      "outputs": [
        {
          "name": "stdout",
          "output_type": "stream",
          "text": [
            "Data uploaded successfully to S3\n"
          ]
        }
      ],
      "source": [
        "# Main execution\n",
        "api_key = \"9d205ed8d6a08d68d34b0bcac606ec6f\"   # Replace with your API key\n",
        "city = \"London\"  # Replace with desired city\n",
        "bucket_name = \"lab-03-group3\"  # Replace with your S3 bucket name\n",
        "file_name = \"Group_3_weather_data_london.json\"\n",
        "\n",
        "try:\n",
        "    weather_data = get_weather_data(city, api_key)\n",
        "    upload_to_s3(bucket_name, file_name, weather_data)\n",
        "    print(\"Data uploaded successfully to S3\")\n",
        "except Exception as e:\n",
        "    print(f\"An error occurred: {e}\")"
      ]
    },
    {
      "cell_type": "markdown",
      "metadata": {
        "id": "0O_jA3tBCVJY"
      },
      "source": []
    },
    {
      "cell_type": "code",
      "execution_count": 184,
      "metadata": {
        "colab": {
          "base_uri": "https://localhost:8080/"
        },
        "id": "WlFDrpu_Co3T",
        "outputId": "62eba14a-296a-4d75-b03c-4506d47983fd"
      },
      "outputs": [
        {
          "name": "stdout",
          "output_type": "stream",
          "text": [
            "{'coord': {'lon': -0.1257, 'lat': 51.5085}, 'weather': [{'id': 500, 'main': 'Rain', 'description': 'light rain', 'icon': '10n'}], 'base': 'stations', 'main': {'temp': 285.85, 'feels_like': 285.4, 'temp_min': 284.64, 'temp_max': 286.91, 'pressure': 1005, 'humidity': 85}, 'visibility': 10000, 'wind': {'speed': 3.13, 'deg': 246, 'gust': 5.81}, 'rain': {'1h': 0.45}, 'clouds': {'all': 100}, 'dt': 1712258850, 'sys': {'type': 2, 'id': 2075535, 'country': 'GB', 'sunrise': 1712208487, 'sunset': 1712255896}, 'timezone': 3600, 'id': 2643743, 'name': 'London', 'cod': 200}\n"
          ]
        }
      ],
      "source": [
        "# Example usage\n",
        "try:\n",
        "    weather_data = get_weather_data(city, api_key)\n",
        "    print(weather_data)\n",
        "except Exception as e:\n",
        "    print(f\"An error occurred: {e}\")"
      ]
    },
    {
      "cell_type": "markdown",
      "metadata": {},
      "source": [
        "# Assignment: Groups to Convert JSON to CSV\n",
        "\n",
        "Step 1. Take the JSON output and convert it to a Dataframe using pandas\n",
        "Step 2. Now upload the CSV file to the 'lab-03' S3 bucket in the cloud with the following naming convention: <your group name>_weather_date_london_<datetimestamp>.csv\n"
      ]
    },
    {
      "cell_type": "code",
      "execution_count": 185,
      "metadata": {},
      "outputs": [],
      "source": [
        "# Generic function to validate the data loaded into S3 bucket\n",
        "def print_bucket_contents(bucket):\n",
        "    s3 = boto3.client('s3')\n",
        "    response = s3.list_objects_v2(Bucket=bucket)\n",
        "\n",
        "    if 'Contents' in response:\n",
        "        print(\"Contents of the '{}' bucket:\".format(bucket))\n",
        "        for obj in response['Contents']:\n",
        "            print(obj['Key'])\n",
        "    else:\n",
        "        print(\"The bucket '{}' is empty.\".format(bucket))"
      ]
    },
    {
      "cell_type": "code",
      "execution_count": 186,
      "metadata": {},
      "outputs": [
        {
          "data": {
            "text/html": [
              "<div>\n",
              "<style scoped>\n",
              "    .dataframe tbody tr th:only-of-type {\n",
              "        vertical-align: middle;\n",
              "    }\n",
              "\n",
              "    .dataframe tbody tr th {\n",
              "        vertical-align: top;\n",
              "    }\n",
              "\n",
              "    .dataframe thead th {\n",
              "        text-align: right;\n",
              "    }\n",
              "</style>\n",
              "<table border=\"1\" class=\"dataframe\">\n",
              "  <thead>\n",
              "    <tr style=\"text-align: right;\">\n",
              "      <th></th>\n",
              "      <th>base</th>\n",
              "      <th>visibility</th>\n",
              "      <th>dt</th>\n",
              "      <th>timezone</th>\n",
              "      <th>id</th>\n",
              "      <th>name</th>\n",
              "      <th>cod</th>\n",
              "      <th>coord.lon</th>\n",
              "      <th>coord.lat</th>\n",
              "      <th>main.temp</th>\n",
              "      <th>main.feels_like</th>\n",
              "      <th>main.temp_min</th>\n",
              "      <th>main.temp_max</th>\n",
              "      <th>main.pressure</th>\n",
              "      <th>main.humidity</th>\n",
              "      <th>wind.speed</th>\n",
              "      <th>wind.deg</th>\n",
              "      <th>wind.gust</th>\n",
              "      <th>rain.1h</th>\n",
              "      <th>clouds.all</th>\n",
              "      <th>sys.type</th>\n",
              "      <th>sys.id</th>\n",
              "      <th>sys.country</th>\n",
              "      <th>sys.sunrise</th>\n",
              "      <th>sys.sunset</th>\n",
              "      <th>weather.id</th>\n",
              "      <th>weather.main</th>\n",
              "      <th>weather.description</th>\n",
              "      <th>weather.icon</th>\n",
              "    </tr>\n",
              "  </thead>\n",
              "  <tbody>\n",
              "    <tr>\n",
              "      <th>0</th>\n",
              "      <td>stations</td>\n",
              "      <td>10000</td>\n",
              "      <td>1712258850</td>\n",
              "      <td>3600</td>\n",
              "      <td>2643743</td>\n",
              "      <td>London</td>\n",
              "      <td>200</td>\n",
              "      <td>-0.1257</td>\n",
              "      <td>51.5085</td>\n",
              "      <td>285.85</td>\n",
              "      <td>285.4</td>\n",
              "      <td>284.64</td>\n",
              "      <td>286.91</td>\n",
              "      <td>1005</td>\n",
              "      <td>85</td>\n",
              "      <td>3.13</td>\n",
              "      <td>246</td>\n",
              "      <td>5.81</td>\n",
              "      <td>0.45</td>\n",
              "      <td>100</td>\n",
              "      <td>2</td>\n",
              "      <td>2075535</td>\n",
              "      <td>GB</td>\n",
              "      <td>1712208487</td>\n",
              "      <td>1712255896</td>\n",
              "      <td>500</td>\n",
              "      <td>Rain</td>\n",
              "      <td>light rain</td>\n",
              "      <td>10n</td>\n",
              "    </tr>\n",
              "  </tbody>\n",
              "</table>\n",
              "</div>"
            ],
            "text/plain": [
              "       base  visibility          dt  timezone       id    name  cod  \\\n",
              "0  stations       10000  1712258850      3600  2643743  London  200   \n",
              "\n",
              "   coord.lon  coord.lat  main.temp  main.feels_like  main.temp_min  \\\n",
              "0    -0.1257    51.5085     285.85            285.4         284.64   \n",
              "\n",
              "   main.temp_max  main.pressure  main.humidity  wind.speed  wind.deg  \\\n",
              "0         286.91           1005             85        3.13       246   \n",
              "\n",
              "   wind.gust  rain.1h  clouds.all  sys.type   sys.id sys.country  sys.sunrise  \\\n",
              "0       5.81     0.45         100         2  2075535          GB   1712208487   \n",
              "\n",
              "   sys.sunset  weather.id weather.main weather.description weather.icon  \n",
              "0  1712255896         500         Rain          light rain          10n  "
            ]
          },
          "execution_count": 186,
          "metadata": {},
          "output_type": "execute_result"
        }
      ],
      "source": [
        "# Configure to display all the data\n",
        "pd.set_option('display.max_columns', None)\n",
        "pd.set_option('display.max_rows', None)\n",
        "\n",
        "# Converting json to dataframe\n",
        "flattened_data = pd.json_normalize(weather_data) # Flatten the JSON data\n",
        "\n",
        "# Flatten 'weather' column separately with prefix\n",
        "weather_data_norm = pd.json_normalize(weather_data['weather']).add_prefix('weather.')\n",
        "\n",
        "# Merge the two DataFrames\n",
        "df = pd.concat([flattened_data, weather_data_norm], axis=1)\n",
        "df = df.drop(columns = ['weather'], axis = 1) # drop the weather column\n",
        "\n",
        "# Display DataFrame\n",
        "df"
      ]
    },
    {
      "cell_type": "code",
      "execution_count": 187,
      "metadata": {},
      "outputs": [
        {
          "name": "stdout",
          "output_type": "stream",
          "text": [
            "Data uploaded successfully to S3\n"
          ]
        }
      ],
      "source": [
        "file_name_csv = \"Group_3_weather_data_london.csv\"\n",
        "\n",
        "# Convert DataFrame to CSV string\n",
        "try:\n",
        "    csv_content = df.to_csv(index=False)\n",
        "except Exception as e:\n",
        "    print(\"Error converting DataFrame to CSV:\", e)\n",
        "    csv_content = None\n",
        "\n",
        "# Upload the CSV content to S3\n",
        "if csv_content is not None:\n",
        "    try:\n",
        "        s3 = boto3.client('s3')\n",
        "        response = s3.put_object(\n",
        "            Bucket=bucket_name,\n",
        "            Key=file_name_csv,\n",
        "            Body=csv_content.encode('utf-8')  # Convert to bytes\n",
        "        )\n",
        "        print(\"Data uploaded successfully to S3\")\n",
        "    except Exception as e:\n",
        "        print(\"Error uploading file to S3:\", e)\n",
        "else:\n",
        "    print(\"CSV content is None. Upload aborted.\")"
      ]
    },
    {
      "cell_type": "code",
      "execution_count": 188,
      "metadata": {},
      "outputs": [
        {
          "name": "stdout",
          "output_type": "stream",
          "text": [
            "Contents of the 'lab-03-group3' bucket:\n",
            "Group_3_weather_data_london.csv\n",
            "Group_3_weather_data_london.json\n"
          ]
        }
      ],
      "source": [
        "# Validating if json file is uploaded in respective bucket or not\n",
        "print_bucket_contents(bucket_name)"
      ]
    }
  ],
  "metadata": {
    "colab": {
      "provenance": []
    },
    "kernelspec": {
      "display_name": "Python 3",
      "name": "python3"
    },
    "language_info": {
      "codemirror_mode": {
        "name": "ipython",
        "version": 3
      },
      "file_extension": ".py",
      "mimetype": "text/x-python",
      "name": "python",
      "nbconvert_exporter": "python",
      "pygments_lexer": "ipython3",
      "version": "3.9.12"
    }
  },
  "nbformat": 4,
  "nbformat_minor": 0
}
