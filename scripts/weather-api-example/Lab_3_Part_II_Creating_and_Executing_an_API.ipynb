{
  "cells": [
    {
      "cell_type": "markdown",
      "metadata": {
        "id": "CojT76QDBmhP"
      },
      "source": [
        "# Fetching Weather Data and Uploading to AWS S3\n",
        "\n",
        "This guide provides steps for fetching weather data using the OpenWeatherMap API and then uploading the data to an Amazon S3 bucket using Python.\n",
        "\n",
        "## Step 1: Obtain an API Key from OpenWeatherMap\n",
        "\n",
        "1. Register on the [OpenWeatherMap website](https://openweathermap.org/) and create an account.\n",
        "2. Find and copy the API key from your account dashboard.\n",
        "\n",
        "## Step 2: Write Python Function to Fetch Weather Data"
      ]
    },
    {
      "cell_type": "code",
      "execution_count": 1,
      "metadata": {
        "id": "IhtMAOMHBiyt"
      },
      "outputs": [],
      "source": [
        "import requests\n",
        "\n",
        "def get_weather_data(city, api_key):\n",
        "    base_url = \"https://api.openweathermap.org/data/2.5/weather\"\n",
        "    params = {'q': city, 'appid': api_key}\n",
        "    response = requests.get(base_url, params=params)\n",
        "    if response.status_code == 200:\n",
        "        return response.json()\n",
        "    else:\n",
        "        raise Exception(\"Failed to fetch weather data\")"
      ]
    },
    {
      "cell_type": "markdown",
      "metadata": {
        "id": "qGIMEi1-Bvbm"
      },
      "source": [
        "## Step 3: Set Up AWS Credentials for S3 Access\n",
        "* Install Boto3 using pip install boto3.\n",
        "* Configure AWS credentials (AWS Access Key ID and Secret Access Key)."
      ]
    },
    {
      "cell_type": "code",
      "execution_count": 2,
      "metadata": {
        "colab": {
          "base_uri": "https://localhost:8080/"
        },
        "id": "lZW3uJbuB489",
        "outputId": "aebe3abe-9c4c-4927-e4d0-b83aba818bf7"
      },
      "outputs": [
        {
          "name": "stdout",
          "output_type": "stream",
          "text": [
            "Requirement already satisfied: boto3 in c:\\users\\sssur\\anaconda3\\lib\\site-packages (1.34.70)\n",
            "Requirement already satisfied: botocore<1.35.0,>=1.34.70 in c:\\users\\sssur\\anaconda3\\lib\\site-packages (from boto3) (1.34.70)\n",
            "Requirement already satisfied: jmespath<2.0.0,>=0.7.1 in c:\\users\\sssur\\anaconda3\\lib\\site-packages (from boto3) (1.0.1)\n",
            "Requirement already satisfied: s3transfer<0.11.0,>=0.10.0 in c:\\users\\sssur\\anaconda3\\lib\\site-packages (from boto3) (0.10.1)\n",
            "Requirement already satisfied: python-dateutil<3.0.0,>=2.1 in c:\\users\\sssur\\anaconda3\\lib\\site-packages (from botocore<1.35.0,>=1.34.70->boto3) (2.8.2)\n",
            "Requirement already satisfied: urllib3!=2.2.0,<3,>=1.25.4 in c:\\users\\sssur\\anaconda3\\lib\\site-packages (from botocore<1.35.0,>=1.34.70->boto3) (2.0.7)\n",
            "Requirement already satisfied: six>=1.5 in c:\\users\\sssur\\anaconda3\\lib\\site-packages (from python-dateutil<3.0.0,>=2.1->botocore<1.35.0,>=1.34.70->boto3) (1.16.0)\n"
          ]
        }
      ],
      "source": [
        "!pip install boto3"
      ]
    },
    {
      "cell_type": "markdown",
      "metadata": {
        "id": "vnn-pfSWCXfi"
      },
      "source": [
        "## Step 4: Write Python Function to Upload Data to S3\n"
      ]
    },
    {
      "cell_type": "code",
      "execution_count": 3,
      "metadata": {
        "id": "Ja7gCT4CCVt4"
      },
      "outputs": [],
      "source": [
        "import boto3\n",
        "import json\n",
        "import aws_access_key\n",
        "\n",
        "def upload_to_s3(bucket_name, file_name, data):\n",
        "    s3 = boto3.client('s3',\n",
        "                      aws_access_key_id=aws_access_key.aws_access_key_id,\n",
        "                      aws_secret_access_key=aws_access_key.aws_secret_access_key,\n",
        "                      region_name='us-east-1')\n",
        "\n",
        "    s3.put_object(Bucket=bucket_name, Key=file_name, Body=json.dumps(data))"
      ]
    },
    {
      "cell_type": "markdown",
      "metadata": {
        "id": "G795_fa1CcgS"
      },
      "source": [
        "## Step 5: Combine the Functions in a Script\n"
      ]
    },
    {
      "cell_type": "code",
      "execution_count": 4,
      "metadata": {
        "colab": {
          "base_uri": "https://localhost:8080/"
        },
        "id": "qObZbAK8Ce9C",
        "outputId": "05c3b5f4-c8d8-4dc7-9cad-cb833493f762"
      },
      "outputs": [
        {
          "name": "stdout",
          "output_type": "stream",
          "text": [
            "Data uploaded successfully to S3\n"
          ]
        }
      ],
      "source": [
        "# Main execution\n",
        "api_key = \"8b92a0a1e22d01d459c6fd52d03d721e\" \n",
        "city = \"London\"\n",
        "bucket_name = \"lab-03-group2\"  \n",
        "file_name = \"weather_data.json\"\n",
        "\n",
        "try:\n",
        "    weather_data = get_weather_data(city, api_key)\n",
        "    upload_to_s3(bucket_name, file_name, weather_data)\n",
        "    print(\"Data uploaded successfully to S3\")\n",
        "except Exception as e:\n",
        "    print(f\"An error occurred: {e}\")"
      ]
    },
    {
      "cell_type": "code",
      "execution_count": 5,
      "metadata": {
        "colab": {
          "base_uri": "https://localhost:8080/"
        },
        "id": "WlFDrpu_Co3T",
        "outputId": "62eba14a-296a-4d75-b03c-4506d47983fd"
      },
      "outputs": [
        {
          "name": "stdout",
          "output_type": "stream",
          "text": [
            "{'coord': {'lon': -0.1257, 'lat': 51.5085}, 'weather': [{'id': 804, 'main': 'Clouds', 'description': 'overcast clouds', 'icon': '04n'}], 'base': 'stations', 'main': {'temp': 287.08, 'feels_like': 286.72, 'temp_min': 285.75, 'temp_max': 288.03, 'pressure': 1006, 'humidity': 84}, 'visibility': 10000, 'wind': {'speed': 3.13, 'deg': 227, 'gust': 5.36}, 'clouds': {'all': 100}, 'dt': 1712359038, 'sys': {'type': 2, 'id': 2075535, 'country': 'GB', 'sunrise': 1712381017, 'sunset': 1712428896}, 'timezone': 3600, 'id': 2643743, 'name': 'London', 'cod': 200}\n"
          ]
        }
      ],
      "source": [
        "# Example usage\n",
        "api_key = \"8b92a0a1e22d01d459c6fd52d03d721e\"  # Replace with your actual API key\n",
        "city = \"London\"\n",
        "try:\n",
        "    weather_data = get_weather_data(city, api_key)\n",
        "    print(weather_data)\n",
        "except Exception as e:\n",
        "    print(f\"An error occurred: {e}\")"
      ]
    },
    {
      "cell_type": "markdown",
      "metadata": {},
      "source": [
        "# Assignment: Groups to Convert JSON to CSV\n",
        "\n",
        "Step 1. Take the JSON output and convert it to a Dataframe using pandas\n",
        "Step 2. Now upload the CSV file to the 'lab-03' S3 bucket in the cloud with the following naming convention: <your group name>_weather_date_london_<datetimestamp>.csv\n"
      ]
    },
    {
      "cell_type": "code",
      "execution_count": 7,
      "metadata": {},
      "outputs": [
        {
          "name": "stdout",
          "output_type": "stream",
          "text": [
            "Data uploaded successfully to S3\n"
          ]
        }
      ],
      "source": [
        "###### INSERT CODE BELOW ####\n",
        "import pandas as pd\n",
        "from io import StringIO\n",
        "\n",
        "\n",
        "def flatten_json(json_obj, prefix=''):\n",
        "    \"\"\"\n",
        "    Flatten a nested JSON object into a single-level dictionary.\n",
        "\n",
        "    Args:\n",
        "        json_obj (dict): The JSON object to be flattened.\n",
        "        prefix (str, optional): Prefix to be added to keys during flattening. Defaults to ''.\n",
        "\n",
        "    Returns:\n",
        "        dict: The flattened dictionary.\n",
        "    \"\"\"\n",
        "    # Initialize an empty dictionary to store flattened key-value pairs\n",
        "    flat_dict = {}\n",
        "\n",
        "    # Iterate through key-value pairs in the JSON object\n",
        "    for key, value in json_obj.items():\n",
        "        # If the value is another dictionary, recursively flatten it\n",
        "        if isinstance(value, dict):\n",
        "            flat_dict.update(flatten_json(value, prefix + key + '_'))  # Recursively call flatten_json with updated prefix\n",
        "        # If the value is a list, iterate through its elements and recursively flatten each\n",
        "        elif isinstance(value, list):\n",
        "            for i, item in enumerate(value):\n",
        "                flat_dict.update(flatten_json(item, prefix + key + '_'))  # Recursively call flatten_json with updated prefix\n",
        "        # If the value is a simple value (not a dictionary or list), add it to the flattened dictionary\n",
        "        else:\n",
        "            flat_dict[prefix + key] = value\n",
        "    \n",
        "    # Return the flattened dictionary\n",
        "    return flat_dict\n",
        "\n",
        "\n",
        "try:\n",
        "    # Convert JSON to DataFrame\n",
        "    flattened_data = flatten_json(weather_data)\n",
        "    weather_df = pd.DataFrame([flattened_data])\n",
        "\n",
        "    # Convert DataFrame to CSV string\n",
        "    csv_buffer = StringIO()\n",
        "    weather_df.to_csv(csv_buffer, index=False)\n",
        "\n",
        "    # Upload the CSV data to the specified S3 bucket with the specified key\n",
        "    upload_to_s3('lab-03-group2', 'weather_date_london.csv', csv_buffer.getvalue())\n",
        "    print(\"Data uploaded successfully to S3\")\n",
        "\n",
        "except Exception as e:\n",
        "    print(f\"An error occurred: {e}\")\n",
        "\n",
        "### END CODE ###"
      ]
    }
  ],
  "metadata": {
    "colab": {
      "provenance": []
    },
    "kernelspec": {
      "display_name": "Python 3",
      "name": "python3"
    },
    "language_info": {
      "codemirror_mode": {
        "name": "ipython",
        "version": 3
      },
      "file_extension": ".py",
      "mimetype": "text/x-python",
      "name": "python",
      "nbconvert_exporter": "python",
      "pygments_lexer": "ipython3",
      "version": "3.11.7"
    }
  },
  "nbformat": 4,
  "nbformat_minor": 0
}
