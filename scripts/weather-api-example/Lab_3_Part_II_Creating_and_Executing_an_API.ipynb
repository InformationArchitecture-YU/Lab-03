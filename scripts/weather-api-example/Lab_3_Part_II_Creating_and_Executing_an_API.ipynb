{
 "cells": [
  {
   "cell_type": "markdown",
   "metadata": {
    "id": "CojT76QDBmhP"
   },
   "source": [
    "# Fetching Weather Data and Uploading to AWS S3\n",
    "\n",
    "This guide provides steps for fetching weather data using the OpenWeatherMap API and then uploading the data to an Amazon S3 bucket using Python.\n",
    "\n",
    "## Step 1: Obtain an API Key from OpenWeatherMap\n",
    "\n",
    "1. Register on the [OpenWeatherMap website](https://openweathermap.org/) and create an account.\n",
    "2. Find and copy the API key from your account dashboard.\n",
    "\n",
    "## Step 2: Write Python Function to Fetch Weather Data"
   ]
  },
  {
   "cell_type": "code",
   "execution_count": 1,
   "metadata": {
    "id": "IhtMAOMHBiyt"
   },
   "outputs": [],
   "source": [
    "import requests\n",
    "\n",
    "def get_weather_data(city, api_key):\n",
    "    base_url = \"https://api.openweathermap.org/data/2.5/weather\"\n",
    "    params = {'q': city, 'appid': api_key}\n",
    "    response = requests.get(base_url, params=params)\n",
    "    if response.status_code == 200:\n",
    "        return response.json()\n",
    "    else:\n",
    "        raise Exception(\"Failed to fetch weather data\")"
   ]
  },
  {
   "cell_type": "markdown",
   "metadata": {
    "id": "qGIMEi1-Bvbm"
   },
   "source": [
    "## Step 3: Set Up AWS Credentials for S3 Access\n",
    "* Install Boto3 using pip install boto3.\n",
    "* Configure AWS credentials (AWS Access Key ID and Secret Access Key)."
   ]
  },
  {
   "cell_type": "code",
   "execution_count": 2,
   "metadata": {
    "colab": {
     "base_uri": "https://localhost:8080/"
    },
    "id": "lZW3uJbuB489",
    "outputId": "aebe3abe-9c4c-4927-e4d0-b83aba818bf7"
   },
   "outputs": [
    {
     "name": "stdout",
     "output_type": "stream",
     "text": [
      "Requirement already satisfied: boto3 in c:\\anaconda\\lib\\site-packages (1.24.28)\n",
      "Requirement already satisfied: botocore<1.28.0,>=1.27.28 in c:\\anaconda\\lib\\site-packages (from boto3) (1.27.96)\n",
      "Requirement already satisfied: jmespath<2.0.0,>=0.7.1 in c:\\anaconda\\lib\\site-packages (from boto3) (0.10.0)\n",
      "Requirement already satisfied: s3transfer<0.7.0,>=0.6.0 in c:\\anaconda\\lib\\site-packages (from boto3) (0.6.2)\n",
      "Requirement already satisfied: python-dateutil<3.0.0,>=2.1 in c:\\anaconda\\lib\\site-packages (from botocore<1.28.0,>=1.27.28->boto3) (2.8.2)\n",
      "Requirement already satisfied: urllib3<1.27,>=1.25.4 in c:\\anaconda\\lib\\site-packages (from botocore<1.28.0,>=1.27.28->boto3) (1.26.16)\n",
      "Requirement already satisfied: six>=1.5 in c:\\anaconda\\lib\\site-packages (from python-dateutil<3.0.0,>=2.1->botocore<1.28.0,>=1.27.28->boto3) (1.16.0)\n"
     ]
    }
   ],
   "source": [
    "!pip install boto3"
   ]
  },
  {
   "cell_type": "markdown",
   "metadata": {
    "id": "vnn-pfSWCXfi"
   },
   "source": [
    "## Step 4: Write Python Function to Upload Data to S3\n"
   ]
  },
  {
   "cell_type": "code",
   "execution_count": 13,
   "metadata": {},
   "outputs": [
    {
     "name": "stdout",
     "output_type": "stream",
     "text": [
      "S3 bucket 'lab-03-group-2' created successfully in region 'us-east-1'.\n"
     ]
    }
   ],
   "source": [
    "import boto3\n",
    "\n",
    "bucket_name = \"lab-03-group-2\" \n",
    "region_name = \"us-east-1\"  # You can choose a different region if needed\n",
    "\n",
    "# Create a boto3 session\n",
    "session = boto3.Session()\n",
    "\n",
    "# Create an S3 client\n",
    "s3_client = session.client(\"s3\", region_name=region_name)\n",
    "\n",
    "try:\n",
    "  # Create the S3 bucket\n",
    "  s3_client.create_bucket(Bucket=bucket_name)\n",
    "  print(f\"S3 bucket '{bucket_name}' created successfully in region '{region_name}'.\")\n",
    "except ClientError as e:\n",
    "  if e.response['Error']['Code'] == 'BucketAlreadyOwnedByYou':\n",
    "    print(f\"Bucket '{bucket_name}' already exists in your account.\")\n",
    "  else:\n",
    "    # Other errors\n",
    "    print(f\"Error creating bucket: {e}\")"
   ]
  },
  {
   "cell_type": "code",
   "execution_count": 16,
   "metadata": {
    "id": "Ja7gCT4CCVt4"
   },
   "outputs": [],
   "source": [
    "import json\n",
    "\n",
    "region = 'us-east-1'\n",
    "\n",
    "def upload_to_s3(bucket_name, file_name, data):\n",
    "  \"\"\"Uploads data to an S3 bucket with error handling.\n",
    "\n",
    "  Args:\n",
    "      bucket_name (str): Name of the S3 bucket.\n",
    "      file_name (str): Name of the file to be uploaded within the bucket.\n",
    "      data (object): The data to be uploaded (can be any serializable object).\n",
    "\n",
    "  Returns:\n",
    "      object: The response object from the S3 upload operation if successful, otherwise None.\n",
    "\n",
    "  Raises:\n",
    "      Exception: A generic exception with a message indicating the error that occurred.\n",
    "  \"\"\"\n",
    "\n",
    "  try:\n",
    "    response = s3_client.put_object(Bucket=bucket_name, Key=file_name, Body=json.dumps(data))\n",
    "    return response\n",
    "\n",
    "  except Exception as error:\n",
    "    # Catch any other unexpected exceptions\n",
    "    error_message = f\"An unexpected error occurred: {error}\"\n",
    "    raise Exception(error_message)"
   ]
  },
  {
   "cell_type": "markdown",
   "metadata": {
    "id": "G795_fa1CcgS"
   },
   "source": [
    "## Step 5: Combine the Functions in a Script\n"
   ]
  },
  {
   "cell_type": "code",
   "execution_count": 17,
   "metadata": {
    "colab": {
     "base_uri": "https://localhost:8080/"
    },
    "id": "qObZbAK8Ce9C",
    "outputId": "05c3b5f4-c8d8-4dc7-9cad-cb833493f762"
   },
   "outputs": [
    {
     "name": "stdout",
     "output_type": "stream",
     "text": [
      "Data uploaded successfully to S3\n"
     ]
    }
   ],
   "source": [
    "# Main execution\n",
    "api_key = \"3cde20cc977551b5a38ce38685da1d7a\"  \n",
    "city = \"London\"  \n",
    "file_name = \"weather_data.json\"\n",
    "\n",
    "try:\n",
    "    weather_data = get_weather_data(city, api_key)\n",
    "    upload_to_s3(bucket_name, file_name, weather_data)\n",
    "    print(\"Data uploaded successfully to S3\")\n",
    "except Exception as e:\n",
    "    print(f\"An error occurred: {e}\")"
   ]
  },
  {
   "cell_type": "markdown",
   "metadata": {
    "id": "0O_jA3tBCVJY"
   },
   "source": []
  },
  {
   "cell_type": "code",
   "execution_count": 18,
   "metadata": {
    "colab": {
     "base_uri": "https://localhost:8080/"
    },
    "id": "WlFDrpu_Co3T",
    "outputId": "62eba14a-296a-4d75-b03c-4506d47983fd"
   },
   "outputs": [
    {
     "name": "stdout",
     "output_type": "stream",
     "text": [
      "{'coord': {'lon': -0.1257, 'lat': 51.5085}, 'weather': [{'id': 803, 'main': 'Clouds', 'description': 'broken clouds', 'icon': '04n'}], 'base': 'stations', 'main': {'temp': 283.77, 'feels_like': 283, 'temp_min': 282.36, 'temp_max': 284.87, 'pressure': 1008, 'humidity': 81}, 'visibility': 10000, 'wind': {'speed': 4.02, 'deg': 233, 'gust': 6.26}, 'clouds': {'all': 56}, 'dt': 1712531354, 'sys': {'type': 2, 'id': 2075535, 'country': 'GB', 'sunrise': 1712553549, 'sunset': 1712601896}, 'timezone': 3600, 'id': 2643743, 'name': 'London', 'cod': 200}\n"
     ]
    }
   ],
   "source": [
    "# Example usage\n",
    "api_key = \"3cde20cc977551b5a38ce38685da1d7a\" \n",
    "city = \"London\"\n",
    "try:\n",
    "    weather_data = get_weather_data(city, api_key)\n",
    "    print(weather_data)\n",
    "except Exception as e:\n",
    "    print(f\"An error occurred: {e}\")"
   ]
  },
  {
   "cell_type": "markdown",
   "metadata": {},
   "source": [
    "# Assignment: Groups to Convert JSON to CSV\n",
    "\n",
    "Step 1. Take the JSON output and convert it to a Dataframe using pandas\n",
    "Step 2. Now upload the CSV file to the 'lab-03' S3 bucket in the cloud with the following naming convention: <your group name>_weather_date_london_<datetimestamp>.csv\n"
   ]
  },
  {
   "cell_type": "markdown",
   "metadata": {},
   "source": [
    "#### Step 1"
   ]
  },
  {
   "cell_type": "code",
   "execution_count": 22,
   "metadata": {},
   "outputs": [],
   "source": [
    "def flatten_json_stack(json_obj, prefix=''):\n",
    "  \"\"\"\n",
    "  Flatten a JSON object using a stack, returning the flattened dictionary.\n",
    "\n",
    "  Args:\n",
    "      json_obj (dict): The JSON object to flatten.\n",
    "      prefix (str): Prefix to prepend to flattened keys.\n",
    "\n",
    "  Returns:\n",
    "      dict: Flattened dictionary.\n",
    "  \"\"\"\n",
    "  flat_dict = {}  # Initialize an empty dictionary to store flattened key-value pairs\n",
    "  stack = [(prefix, json_obj)]  # Stack to hold (prefix, value) tuples\n",
    "\n",
    "  while stack:\n",
    "    current_prefix, current_value = stack.pop()  # Unwind from the stack\n",
    "\n",
    "    if isinstance(current_value, dict):\n",
    "      for key, value in current_value.items():\n",
    "        new_prefix = current_prefix + key + '_'\n",
    "        stack.append((new_prefix, value))  # Push nested objects onto stack\n",
    "    elif isinstance(current_value, list):\n",
    "      for i, item in enumerate(current_value):\n",
    "        new_prefix = current_prefix + f'{i}_'\n",
    "        stack.append((new_prefix, item))  # Push list elements onto stack\n",
    "    else:\n",
    "      flat_dict[current_prefix] = current_value  \n",
    "\n",
    "  return flat_dict "
   ]
  },
  {
   "cell_type": "code",
   "execution_count": 23,
   "metadata": {},
   "outputs": [
    {
     "data": {
      "text/html": [
       "<div>\n",
       "<style scoped>\n",
       "    .dataframe tbody tr th:only-of-type {\n",
       "        vertical-align: middle;\n",
       "    }\n",
       "\n",
       "    .dataframe tbody tr th {\n",
       "        vertical-align: top;\n",
       "    }\n",
       "\n",
       "    .dataframe thead th {\n",
       "        text-align: right;\n",
       "    }\n",
       "</style>\n",
       "<table border=\"1\" class=\"dataframe\">\n",
       "  <thead>\n",
       "    <tr style=\"text-align: right;\">\n",
       "      <th></th>\n",
       "      <th>cod_</th>\n",
       "      <th>name_</th>\n",
       "      <th>id_</th>\n",
       "      <th>timezone_</th>\n",
       "      <th>sys_sunset_</th>\n",
       "      <th>sys_sunrise_</th>\n",
       "      <th>sys_country_</th>\n",
       "      <th>sys_id_</th>\n",
       "      <th>sys_type_</th>\n",
       "      <th>dt_</th>\n",
       "      <th>...</th>\n",
       "      <th>main_temp_min_</th>\n",
       "      <th>main_feels_like_</th>\n",
       "      <th>main_temp_</th>\n",
       "      <th>base_</th>\n",
       "      <th>weather_0_icon_</th>\n",
       "      <th>weather_0_description_</th>\n",
       "      <th>weather_0_main_</th>\n",
       "      <th>weather_0_id_</th>\n",
       "      <th>coord_lat_</th>\n",
       "      <th>coord_lon_</th>\n",
       "    </tr>\n",
       "  </thead>\n",
       "  <tbody>\n",
       "    <tr>\n",
       "      <th>0</th>\n",
       "      <td>200</td>\n",
       "      <td>London</td>\n",
       "      <td>2643743</td>\n",
       "      <td>3600</td>\n",
       "      <td>1712601896</td>\n",
       "      <td>1712553549</td>\n",
       "      <td>GB</td>\n",
       "      <td>2075535</td>\n",
       "      <td>2</td>\n",
       "      <td>1712531354</td>\n",
       "      <td>...</td>\n",
       "      <td>282.36</td>\n",
       "      <td>283</td>\n",
       "      <td>283.77</td>\n",
       "      <td>stations</td>\n",
       "      <td>04n</td>\n",
       "      <td>broken clouds</td>\n",
       "      <td>Clouds</td>\n",
       "      <td>803</td>\n",
       "      <td>51.5085</td>\n",
       "      <td>-0.1257</td>\n",
       "    </tr>\n",
       "  </tbody>\n",
       "</table>\n",
       "<p>1 rows × 28 columns</p>\n",
       "</div>"
      ],
      "text/plain": [
       "   cod_   name_      id_  timezone_  sys_sunset_  sys_sunrise_ sys_country_  \\\n",
       "0   200  London  2643743       3600   1712601896    1712553549           GB   \n",
       "\n",
       "   sys_id_  sys_type_         dt_  ...  main_temp_min_  main_feels_like_  \\\n",
       "0  2075535          2  1712531354  ...          282.36               283   \n",
       "\n",
       "   main_temp_     base_  weather_0_icon_  weather_0_description_  \\\n",
       "0      283.77  stations              04n           broken clouds   \n",
       "\n",
       "   weather_0_main_  weather_0_id_  coord_lat_  coord_lon_  \n",
       "0           Clouds            803     51.5085     -0.1257  \n",
       "\n",
       "[1 rows x 28 columns]"
      ]
     },
     "execution_count": 23,
     "metadata": {},
     "output_type": "execute_result"
    }
   ],
   "source": [
    "import pandas as pd\n",
    "dict_flattened = flatten_json_stack(weather_data)\n",
    "\n",
    "weather_df = pd.DataFrame([dict_flattened])\n",
    "\n",
    "weather_df"
   ]
  },
  {
   "cell_type": "markdown",
   "metadata": {},
   "source": [
    "#### Step 2"
   ]
  },
  {
   "cell_type": "code",
   "execution_count": 24,
   "metadata": {},
   "outputs": [],
   "source": [
    "from io import StringIO\n",
    "\n",
    "def upload_dataframe_to_s3(df, bucket_name, key):\n",
    "  \"\"\"\n",
    "  Uploads a Pandas dataframe to S3 as a CSV file.\n",
    "\n",
    "  Args:\n",
    "    df (pandas.DataFrame): The dataframe to upload.\n",
    "    bucket_name (str): The name of the S3 bucket to upload to.\n",
    "    key (str): The key (filename) of the object in S3.\n",
    "  \"\"\"\n",
    "  # Create a StringIO object to act as a buffer\n",
    "  csv_buffer = StringIO()\n",
    "  \n",
    "  # Save the dataframe to the buffer as a CSV file\n",
    "  df.to_csv(csv_buffer,index = False)\n",
    "\n",
    "  # Create an S3 client session\n",
    "  s3_client = boto3.client('s3')\n",
    "\n",
    "  # Upload the CSV content to S3\n",
    "  s3_client.put_object(Body=csv_buffer.getvalue(), Bucket=bucket_name, Key=key)\n"
   ]
  },
  {
   "cell_type": "code",
   "execution_count": 25,
   "metadata": {},
   "outputs": [
    {
     "name": "stdout",
     "output_type": "stream",
     "text": [
      "DataFrame uploaded successfully!\n"
     ]
    }
   ],
   "source": [
    "key = \"weather_date_london.csv\"\n",
    "\n",
    "upload_dataframe_to_s3(weather_df, bucket_name, key)\n",
    "\n",
    "print(\"DataFrame uploaded successfully!\")"
   ]
  },
  {
   "cell_type": "code",
   "execution_count": 26,
   "metadata": {},
   "outputs": [],
   "source": [
    "def list_bucket_contents(bucket_name):\n",
    "  \"\"\"\n",
    "  Prints the contents (filenames) of an S3 bucket.\n",
    "\n",
    "  Args:\n",
    "    bucket_name (str): The name of the S3 bucket to list.\n",
    "  \"\"\"\n",
    "  # Create an S3 client session\n",
    "  s3_client = boto3.client('s3')\n",
    "  \n",
    "  # Get the list of objects in the bucket\n",
    "  try:\n",
    "    response = s3_client.list_objects_v2(Bucket=bucket_name)\n",
    "    contents = response.get('Contents', [])\n",
    "    \n",
    "    # Check if bucket is empty\n",
    "    if not contents:\n",
    "      print(f\"Bucket '{bucket_name}' is empty.\")\n",
    "      return\n",
    "    \n",
    "    # Print the filename (key) of each object\n",
    "    for obj in contents:\n",
    "      print(obj['Key'])\n",
    "  except ClientError as e:\n",
    "    if e.response['Error']['Code'] == 'NoSuchBucket':\n",
    "      # Handle non-existent bucket error\n",
    "      print(f\"Bucket '{bucket_name}' does not exist.\")\n",
    "    else:\n",
    "      # Handle other errors\n",
    "      raise"
   ]
  },
  {
   "cell_type": "code",
   "execution_count": 27,
   "metadata": {},
   "outputs": [
    {
     "name": "stdout",
     "output_type": "stream",
     "text": [
      "weather_data.json\n",
      "weather_date_london.csv\n"
     ]
    }
   ],
   "source": [
    "list_bucket_contents(bucket_name)"
   ]
  },
  {
   "cell_type": "code",
   "execution_count": null,
   "metadata": {},
   "outputs": [],
   "source": []
  }
 ],
 "metadata": {
  "colab": {
   "provenance": []
  },
  "kernelspec": {
   "display_name": "Python 3 (ipykernel)",
   "language": "python",
   "name": "python3"
  },
  "language_info": {
   "codemirror_mode": {
    "name": "ipython",
    "version": 3
   },
   "file_extension": ".py",
   "mimetype": "text/x-python",
   "name": "python",
   "nbconvert_exporter": "python",
   "pygments_lexer": "ipython3",
   "version": "3.11.4"
  }
 },
 "nbformat": 4,
 "nbformat_minor": 1
}
