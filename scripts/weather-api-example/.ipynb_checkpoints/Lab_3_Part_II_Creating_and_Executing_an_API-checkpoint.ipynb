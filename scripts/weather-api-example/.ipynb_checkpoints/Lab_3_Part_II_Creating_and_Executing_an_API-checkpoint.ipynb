{
 "cells": [
  {
   "cell_type": "markdown",
   "metadata": {
    "id": "CojT76QDBmhP"
   },
   "source": [
    "# Fetching Weather Data and Uploading to AWS S3\n",
    "\n",
    "This guide provides steps for fetching weather data using the OpenWeatherMap API and then uploading the data to an Amazon S3 bucket using Python.\n",
    "\n",
    "## Step 1: Obtain an API Key from OpenWeatherMap\n",
    "\n",
    "1. Register on the [OpenWeatherMap website](https://openweathermap.org/) and create an account.\n",
    "2. Find and copy the API key from your account dashboard.\n",
    "\n",
    "## Step 2: Write Python Function to Fetch Weather Data"
   ]
  },
  {
   "cell_type": "code",
   "execution_count": 2,
   "metadata": {
    "id": "IhtMAOMHBiyt"
   },
   "outputs": [],
   "source": [
    "import requests\n",
    "\n",
    "def get_weather_data(city, api_key):\n",
    "    base_url = \"https://api.openweathermap.org/data/2.5/weather\"\n",
    "    params = {'q': city, 'appid': api_key}\n",
    "    response = requests.get(base_url, params=params)\n",
    "    if response.status_code == 200:\n",
    "        return response.json()\n",
    "    else:\n",
    "        raise Exception(\"Failed to fetch weather data\")"
   ]
  },
  {
   "cell_type": "markdown",
   "metadata": {
    "id": "qGIMEi1-Bvbm"
   },
   "source": [
    "## Step 3: Set Up AWS Credentials for S3 Access\n",
    "* Install Boto3 using pip install boto3.\n",
    "* Configure AWS credentials (AWS Access Key ID and Secret Access Key)."
   ]
  },
  {
   "cell_type": "code",
   "execution_count": 3,
   "metadata": {
    "colab": {
     "base_uri": "https://localhost:8080/"
    },
    "id": "lZW3uJbuB489",
    "outputId": "aebe3abe-9c4c-4927-e4d0-b83aba818bf7"
   },
   "outputs": [
    {
     "name": "stdout",
     "output_type": "stream",
     "text": [
      "Requirement already satisfied: boto3 in c:\\users\\ldond\\anaconda3\\lib\\site-packages (1.24.28)\n",
      "Collecting botocore<1.28.0,>=1.27.28 (from boto3)\n",
      "  Obtaining dependency information for botocore<1.28.0,>=1.27.28 from https://files.pythonhosted.org/packages/f9/73/aa345e22ce21e86fa99e8dc25ab7ae4fd73eedc4c365282c82fa6ba3f66f/botocore-1.27.96-py3-none-any.whl.metadata\n",
      "  Downloading botocore-1.27.96-py3-none-any.whl.metadata (5.9 kB)\n",
      "Requirement already satisfied: jmespath<2.0.0,>=0.7.1 in c:\\users\\ldond\\anaconda3\\lib\\site-packages (from boto3) (0.10.0)\n",
      "Requirement already satisfied: s3transfer<0.7.0,>=0.6.0 in c:\\users\\ldond\\anaconda3\\lib\\site-packages (from boto3) (0.6.2)\n",
      "Requirement already satisfied: python-dateutil<3.0.0,>=2.1 in c:\\users\\ldond\\anaconda3\\lib\\site-packages (from botocore<1.28.0,>=1.27.28->boto3) (2.8.2)\n",
      "Requirement already satisfied: urllib3<1.27,>=1.25.4 in c:\\users\\ldond\\anaconda3\\lib\\site-packages (from botocore<1.28.0,>=1.27.28->boto3) (1.26.16)\n",
      "Requirement already satisfied: six>=1.5 in c:\\users\\ldond\\anaconda3\\lib\\site-packages (from python-dateutil<3.0.0,>=2.1->botocore<1.28.0,>=1.27.28->boto3) (1.16.0)\n",
      "Downloading botocore-1.27.96-py3-none-any.whl (9.3 MB)\n",
      "   ---------------------------------------- 0.0/9.3 MB ? eta -:--:--\n",
      "   ---------------------------------------- 0.0/9.3 MB ? eta -:--:--\n",
      "   ---------------------------------------- 0.0/9.3 MB ? eta -:--:--\n",
      "   ---------------------------------------- 0.1/9.3 MB 939.4 kB/s eta 0:00:10\n",
      "   ---------------------------------------- 0.1/9.3 MB 939.4 kB/s eta 0:00:10\n",
      "   - -------------------------------------- 0.3/9.3 MB 1.3 MB/s eta 0:00:07\n",
      "   - -------------------------------------- 0.3/9.3 MB 1.4 MB/s eta 0:00:07\n",
      "   --- ------------------------------------ 0.7/9.3 MB 2.3 MB/s eta 0:00:04\n",
      "   ----- ---------------------------------- 1.3/9.3 MB 3.6 MB/s eta 0:00:03\n",
      "   -------- ------------------------------- 2.0/9.3 MB 5.2 MB/s eta 0:00:02\n",
      "   ---------- ----------------------------- 2.3/9.3 MB 5.2 MB/s eta 0:00:02\n",
      "   ------------- -------------------------- 3.1/9.3 MB 6.3 MB/s eta 0:00:01\n",
      "   -------------- ------------------------- 3.4/9.3 MB 6.5 MB/s eta 0:00:01\n",
      "   ------------------ --------------------- 4.2/9.3 MB 7.5 MB/s eta 0:00:01\n",
      "   --------------------- ------------------ 5.0/9.3 MB 8.2 MB/s eta 0:00:01\n",
      "   ------------------------ --------------- 5.8/9.3 MB 8.8 MB/s eta 0:00:01\n",
      "   ---------------------------- ----------- 6.6/9.3 MB 9.6 MB/s eta 0:00:01\n",
      "   ------------------------------- -------- 7.3/9.3 MB 9.9 MB/s eta 0:00:01\n",
      "   ----------------------------------- ---- 8.3/9.3 MB 10.6 MB/s eta 0:00:01\n",
      "   ------------------------------------- -- 8.7/9.3 MB 10.7 MB/s eta 0:00:01\n",
      "   ---------------------------------------  9.3/9.3 MB 11.0 MB/s eta 0:00:01\n",
      "   ---------------------------------------- 9.3/9.3 MB 10.6 MB/s eta 0:00:00\n",
      "Installing collected packages: botocore\n",
      "  Attempting uninstall: botocore\n",
      "    Found existing installation: botocore 1.34.72\n",
      "    Uninstalling botocore-1.34.72:\n",
      "      Successfully uninstalled botocore-1.34.72\n",
      "Successfully installed botocore-1.27.96\n"
     ]
    },
    {
     "name": "stderr",
     "output_type": "stream",
     "text": [
      "ERROR: pip's dependency resolver does not currently take into account all the packages that are installed. This behaviour is the source of the following dependency conflicts.\n",
      "transformers 2.1.1 requires sentencepiece, which is not installed.\n",
      "aiobotocore 2.4.2 requires botocore<1.27.60,>=1.27.59, but you have botocore 1.27.96 which is incompatible.\n",
      "awscli 1.32.41 requires botocore==1.34.41, but you have botocore 1.27.96 which is incompatible.\n",
      "awscli 1.32.41 requires s3transfer<0.11.0,>=0.10.0, but you have s3transfer 0.6.2 which is incompatible.\n"
     ]
    }
   ],
   "source": [
    "!pip install boto3"
   ]
  },
  {
   "cell_type": "markdown",
   "metadata": {
    "id": "vnn-pfSWCXfi"
   },
   "source": [
    "## Step 4: Write Python Function to Upload Data to S3\n"
   ]
  },
  {
   "cell_type": "code",
   "execution_count": 3,
   "metadata": {
    "id": "Ja7gCT4CCVt4"
   },
   "outputs": [],
   "source": [
    "import boto3\n",
    "import json\n",
    "\n",
    "def upload_to_s3(bucket_name, file_name, data):\n",
    "    s3 = boto3.client('s3')\n",
    "    s3.put_object(Bucket=bucket_name, Key=file_name, Body=json.dumps(data))"
   ]
  },
  {
   "cell_type": "markdown",
   "metadata": {
    "id": "G795_fa1CcgS"
   },
   "source": [
    "## Step 5: Combine the Functions in a Script\n"
   ]
  },
  {
   "cell_type": "code",
   "execution_count": 4,
   "metadata": {
    "colab": {
     "base_uri": "https://localhost:8080/"
    },
    "id": "qObZbAK8Ce9C",
    "outputId": "05c3b5f4-c8d8-4dc7-9cad-cb833493f762"
   },
   "outputs": [
    {
     "name": "stdout",
     "output_type": "stream",
     "text": [
      "An error occurred: name 'upload_to_s3' is not defined\n"
     ]
    }
   ],
   "source": [
    "# Main execution\n",
    "api_key = \"4377224ba420819ae1d1515d02547b3d\"   # Replace with your API key\n",
    "city = \"London\"  # Replace with desired city\n",
    "bucket_name = \"lab-03\"  # Replace with your S3 bucket name\n",
    "file_name = \"weather_data.json\"\n",
    "\n",
    "try:\n",
    "    weather_data = get_weather_data(city, api_key)\n",
    "    upload_to_s3(bucket_name, file_name, weather_data)\n",
    "    print(\"Data uploaded successfully to S3\")\n",
    "except Exception as e:\n",
    "    print(f\"An error occurred: {e}\")"
   ]
  },
  {
   "cell_type": "markdown",
   "metadata": {
    "id": "0O_jA3tBCVJY"
   },
   "source": []
  },
  {
   "cell_type": "code",
   "execution_count": 5,
   "metadata": {
    "colab": {
     "base_uri": "https://localhost:8080/"
    },
    "id": "WlFDrpu_Co3T",
    "outputId": "62eba14a-296a-4d75-b03c-4506d47983fd"
   },
   "outputs": [
    {
     "name": "stdout",
     "output_type": "stream",
     "text": [
      "{'coord': {'lon': -0.1257, 'lat': 51.5085}, 'weather': [{'id': 804, 'main': 'Clouds', 'description': 'overcast clouds', 'icon': '04n'}], 'base': 'stations', 'main': {'temp': 288.32, 'feels_like': 288.03, 'temp_min': 286.31, 'temp_max': 289.35, 'pressure': 1003, 'humidity': 82}, 'visibility': 10000, 'wind': {'speed': 5.66, 'deg': 160}, 'clouds': {'all': 100}, 'dt': 1712369760, 'sys': {'type': 2, 'id': 2075535, 'country': 'GB', 'sunrise': 1712381017, 'sunset': 1712428896}, 'timezone': 3600, 'id': 2643743, 'name': 'London', 'cod': 200}\n"
     ]
    }
   ],
   "source": [
    "# Example usage\n",
    "api_key = \"4377224ba420819ae1d1515d02547b3d\"  # Replace with your actual API key\n",
    "city = \"London\"\n",
    "try:\n",
    "    weather_data = get_weather_data(city, api_key)\n",
    "    print(weather_data)\n",
    "except Exception as e:\n",
    "    print(f\"An error occurred: {e}\")"
   ]
  },
  {
   "cell_type": "markdown",
   "metadata": {},
   "source": [
    "# Assignment: Groups to Convert JSON to CSV\n",
    "\n",
    "Step 1. Take the JSON output and convert it to a Dataframe using pandas\n",
    "Step 2. Now upload the CSV file to the 'lab-03' S3 bucket in the cloud with the following naming convention: <your group name>_weather_date_london_<datetimestamp>.csv\n"
   ]
  },
  {
   "cell_type": "code",
   "execution_count": null,
   "metadata": {},
   "outputs": [],
   "source": [
    "###### INSERT CODE BELOW ####\n",
    "\n",
    "\n",
    "\n",
    "\n",
    "\n",
    "### END CODE ###"
   ]
  }
 ],
 "metadata": {
  "colab": {
   "provenance": []
  },
  "kernelspec": {
   "display_name": "Python 3 (ipykernel)",
   "language": "python",
   "name": "python3"
  },
  "language_info": {
   "codemirror_mode": {
    "name": "ipython",
    "version": 3
   },
   "file_extension": ".py",
   "mimetype": "text/x-python",
   "name": "python",
   "nbconvert_exporter": "python",
   "pygments_lexer": "ipython3",
   "version": "3.11.4"
  }
 },
 "nbformat": 4,
 "nbformat_minor": 1
}
