{
 "cells": [
  {
   "cell_type": "markdown",
   "metadata": {
    "id": "CojT76QDBmhP"
   },
   "source": [
    "# Fetching Weather Data and Uploading to AWS S3\n",
    "\n",
    "This guide provides steps for fetching weather data using the OpenWeatherMap API and then uploading the data to an Amazon S3 bucket using Python.\n",
    "\n",
    "## Step 1: Obtain an API Key from OpenWeatherMap\n",
    "\n",
    "1. Register on the [OpenWeatherMap website](https://openweathermap.org/) and create an account.\n",
    "2. Find and copy the API key from your account dashboard.\n",
    "\n",
    "## Step 2: Write Python Function to Fetch Weather Data"
   ]
  },
  {
   "cell_type": "code",
   "execution_count": 1,
   "metadata": {
    "id": "IhtMAOMHBiyt"
   },
   "outputs": [],
   "source": [
    "import requests\n",
    "\n",
    "def get_weather_data(city, api_key):\n",
    "    base_url = \"https://api.openweathermap.org/data/2.5/weather\"\n",
    "    params = {'q': city, 'appid': \"8d937a189e4e8289dd8414998cfec8b2\"}\n",
    "    response = requests.get(base_url, params=params)\n",
    "    if response.status_code == 200:\n",
    "        return response.json()\n",
    "    else:\n",
    "        raise Exception(\"Failed to fetch weather data\")"
   ]
  },
  {
   "cell_type": "markdown",
   "metadata": {
    "id": "qGIMEi1-Bvbm"
   },
   "source": [
    "## Step 3: Set Up AWS Credentials for S3 Access\n",
    "* Install Boto3 using pip install boto3.\n",
    "* Configure AWS credentials (AWS Access Key ID and Secret Access Key)."
   ]
  },
  {
   "cell_type": "code",
   "execution_count": 2,
   "metadata": {
    "colab": {
     "base_uri": "https://localhost:8080/"
    },
    "id": "lZW3uJbuB489",
    "outputId": "aebe3abe-9c4c-4927-e4d0-b83aba818bf7"
   },
   "outputs": [
    {
     "name": "stdout",
     "output_type": "stream",
     "text": [
      "Requirement already satisfied: boto3 in c:\\users\\ldond\\anaconda3\\lib\\site-packages (1.24.28)\n",
      "Requirement already satisfied: botocore<1.28.0,>=1.27.28 in c:\\users\\ldond\\anaconda3\\lib\\site-packages (from boto3) (1.27.96)\n",
      "Requirement already satisfied: jmespath<2.0.0,>=0.7.1 in c:\\users\\ldond\\anaconda3\\lib\\site-packages (from boto3) (0.10.0)\n",
      "Requirement already satisfied: s3transfer<0.7.0,>=0.6.0 in c:\\users\\ldond\\anaconda3\\lib\\site-packages (from boto3) (0.6.2)\n",
      "Requirement already satisfied: python-dateutil<3.0.0,>=2.1 in c:\\users\\ldond\\anaconda3\\lib\\site-packages (from botocore<1.28.0,>=1.27.28->boto3) (2.8.2)\n",
      "Requirement already satisfied: urllib3<1.27,>=1.25.4 in c:\\users\\ldond\\anaconda3\\lib\\site-packages (from botocore<1.28.0,>=1.27.28->boto3) (1.26.16)\n",
      "Requirement already satisfied: six>=1.5 in c:\\users\\ldond\\anaconda3\\lib\\site-packages (from python-dateutil<3.0.0,>=2.1->botocore<1.28.0,>=1.27.28->boto3) (1.16.0)\n"
     ]
    }
   ],
   "source": [
    "!pip install boto3"
   ]
  },
  {
   "cell_type": "markdown",
   "metadata": {
    "id": "vnn-pfSWCXfi"
   },
   "source": [
    "## Step 4: Write Python Function to Upload Data to S3\n"
   ]
  },
  {
   "cell_type": "code",
   "execution_count": 3,
   "metadata": {
    "id": "Ja7gCT4CCVt4"
   },
   "outputs": [],
   "source": [
    "import boto3\n",
    "import json\n",
    "\n",
    "def upload_to_s3(bucket_name, file_name, data):\n",
    "    s3 = boto3.client('s3')\n",
    "    s3.put_object(Bucket=bucket_name, Key=file_name, Body=json.dumps(data))"
   ]
  },
  {
   "cell_type": "markdown",
   "metadata": {
    "id": "G795_fa1CcgS"
   },
   "source": [
    "## Step 5: Combine the Functions in a Script\n"
   ]
  },
  {
   "cell_type": "code",
   "execution_count": 4,
   "metadata": {
    "colab": {
     "base_uri": "https://localhost:8080/"
    },
    "id": "qObZbAK8Ce9C",
    "outputId": "05c3b5f4-c8d8-4dc7-9cad-cb833493f762"
   },
   "outputs": [
    {
     "name": "stdout",
     "output_type": "stream",
     "text": [
      "Data uploaded successfully to S3\n"
     ]
    }
   ],
   "source": [
    "# Main execution\n",
    "api_key = \"8d937a189e4e8289dd8414998cfec8b2\"   # Replace with your API key\n",
    "city = \"London\"  # Replace with desired city\n",
    "bucket_name = \"lab03grop3\"  # Replace with your S3 bucket name\n",
    "file_name = \"weather_data.json\"\n",
    "\n",
    "try:\n",
    "    weather_data = get_weather_data(city, api_key)\n",
    "    upload_to_s3(bucket_name, file_name, weather_data)\n",
    "    print(\"Data uploaded successfully to S3\")\n",
    "except Exception as e:\n",
    "    print(f\"An error occurred: {e}\")"
   ]
  },
  {
   "cell_type": "markdown",
   "metadata": {
    "id": "0O_jA3tBCVJY"
   },
   "source": []
  },
  {
   "cell_type": "code",
   "execution_count": 5,
   "metadata": {
    "colab": {
     "base_uri": "https://localhost:8080/"
    },
    "id": "WlFDrpu_Co3T",
    "outputId": "62eba14a-296a-4d75-b03c-4506d47983fd"
   },
   "outputs": [
    {
     "name": "stdout",
     "output_type": "stream",
     "text": [
      "{'coord': {'lon': -0.1257, 'lat': 51.5085}, 'weather': [{'id': 804, 'main': 'Clouds', 'description': 'overcast clouds', 'icon': '04n'}], 'base': 'stations', 'main': {'temp': 282.86, 'feels_like': 280.99, 'temp_min': 281.54, 'temp_max': 284.01, 'pressure': 1008, 'humidity': 87}, 'visibility': 10000, 'wind': {'speed': 3.6, 'deg': 200}, 'clouds': {'all': 90}, 'dt': 1712543400, 'sys': {'type': 2, 'id': 2091269, 'country': 'GB', 'sunrise': 1712553549, 'sunset': 1712601896}, 'timezone': 3600, 'id': 2643743, 'name': 'London', 'cod': 200}\n"
     ]
    }
   ],
   "source": [
    "# Example usage\n",
    "api_key = \"8d937a189e4e8289dd8414998cfec8b2\"  # Replace with your actual API key\n",
    "city = \"London\"\n",
    "try:\n",
    "    weather_data = get_weather_data(city, api_key)\n",
    "    print(weather_data)\n",
    "except Exception as e:\n",
    "    print(f\"An error occurred: {e}\")"
   ]
  },
  {
   "cell_type": "markdown",
   "metadata": {},
   "source": [
    "# Assignment: Groups to Convert JSON to CSV\n",
    "\n",
    "Step 1. Take the JSON output and convert it to a Dataframe using pandas\n",
    "Step 2. Now upload the CSV file to the 'lab-03' S3 bucket in the cloud with the following naming convention: <your group name>_weather_date_london_<datetimestamp>.csv\n"
   ]
  },
  {
   "cell_type": "code",
   "execution_count": 7,
   "metadata": {},
   "outputs": [
    {
     "name": "stdout",
     "output_type": "stream",
     "text": [
      "CSV file uploaded to S3 bucket: weather__date__london.csv\n"
     ]
    }
   ],
   "source": [
    "###### INSERT CODE BELOW ####\n",
    "\n",
    "import pandas as pd\n",
    "\n",
    "df = pd.DataFrame([weather_data])\n",
    "csv_filename = 'weather_' +'_date_'+ '_london.csv'\n",
    "df.to_csv(csv_filename, index=False)\n",
    "\n",
    "# Upload CSV file to S3 bucket\n",
    "\n",
    "s3 = boto3.client('s3')\n",
    "bucket_name = 'lab03grop3'\n",
    "s3.upload_file(csv_filename, bucket_name, csv_filename)\n",
    "\n",
    "print(\"CSV file uploaded to S3 bucket:\", csv_filename)\n",
    "\n",
    "\n",
    "\n",
    "\n",
    "### END CODE ###"
   ]
  }
 ],
 "metadata": {
  "colab": {
   "provenance": []
  },
  "kernelspec": {
   "display_name": "Python 3 (ipykernel)",
   "language": "python",
   "name": "python3"
  },
  "language_info": {
   "codemirror_mode": {
    "name": "ipython",
    "version": 3
   },
   "file_extension": ".py",
   "mimetype": "text/x-python",
   "name": "python",
   "nbconvert_exporter": "python",
   "pygments_lexer": "ipython3",
   "version": "3.9.13"
  }
 },
 "nbformat": 4,
 "nbformat_minor": 1
}
