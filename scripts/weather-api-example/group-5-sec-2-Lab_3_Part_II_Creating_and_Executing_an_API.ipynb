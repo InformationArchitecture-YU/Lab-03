{
 "cells": [
  {
   "cell_type": "markdown",
   "metadata": {
    "id": "CojT76QDBmhP"
   },
   "source": [
    "# Fetching Weather Data and Uploading to AWS S3\n",
    "\n",
    "This guide provides steps for fetching weather data using the OpenWeatherMap API and then uploading the data to an Amazon S3 bucket using Python.\n",
    "\n",
    "## Step 1: Obtain an API Key from OpenWeatherMap\n",
    "\n",
    "1. Register on the [OpenWeatherMap website](https://openweathermap.org/) and create an account.\n",
    "2. Find and copy the API key from your account dashboard.\n",
    "\n",
    "## Step 2: Write Python Function to Fetch Weather Data"
   ]
  },
  {
   "cell_type": "code",
   "execution_count": 1,
   "metadata": {
    "id": "IhtMAOMHBiyt"
   },
   "outputs": [],
   "source": [
    "import requests\n",
    "\n",
    "def get_weather_data(city, api_key):\n",
    "    base_url = \"https://api.openweathermap.org/data/2.5/weather\"\n",
    "    params = {'q': city, 'appid': api_key}\n",
    "    response = requests.get(base_url, params=params)\n",
    "    if response.status_code == 200:\n",
    "        return response.json()\n",
    "    else:\n",
    "        raise Exception(\"Failed to fetch weather data\")"
   ]
  },
  {
   "cell_type": "markdown",
   "metadata": {
    "id": "qGIMEi1-Bvbm"
   },
   "source": [
    "## Step 3: Set Up AWS Credentials for S3 Access\n",
    "* Install Boto3 using pip install boto3.\n",
    "* Configure AWS credentials (AWS Access Key ID and Secret Access Key).\n",
    "* Created S3 bucket using boto3."
   ]
  },
  {
   "cell_type": "code",
   "execution_count": 2,
   "metadata": {
    "colab": {
     "base_uri": "https://localhost:8080/"
    },
    "id": "lZW3uJbuB489",
    "outputId": "aebe3abe-9c4c-4927-e4d0-b83aba818bf7"
   },
   "outputs": [
    {
     "name": "stdout",
     "output_type": "stream",
     "text": [
      "Requirement already satisfied: boto3 in /Users/nikki/anaconda3/lib/python3.11/site-packages (1.34.71)\r\n",
      "Requirement already satisfied: botocore<1.35.0,>=1.34.71 in /Users/nikki/anaconda3/lib/python3.11/site-packages (from boto3) (1.34.71)\r\n",
      "Requirement already satisfied: jmespath<2.0.0,>=0.7.1 in /Users/nikki/anaconda3/lib/python3.11/site-packages (from boto3) (0.10.0)\r\n",
      "Requirement already satisfied: s3transfer<0.11.0,>=0.10.0 in /Users/nikki/anaconda3/lib/python3.11/site-packages (from boto3) (0.10.0)\r\n",
      "Requirement already satisfied: python-dateutil<3.0.0,>=2.1 in /Users/nikki/anaconda3/lib/python3.11/site-packages (from botocore<1.35.0,>=1.34.71->boto3) (2.8.2)\r\n",
      "Requirement already satisfied: urllib3!=2.2.0,<3,>=1.25.4 in /Users/nikki/anaconda3/lib/python3.11/site-packages (from botocore<1.35.0,>=1.34.71->boto3) (1.26.16)\r\n",
      "Requirement already satisfied: six>=1.5 in /Users/nikki/anaconda3/lib/python3.11/site-packages (from python-dateutil<3.0.0,>=2.1->botocore<1.35.0,>=1.34.71->boto3) (1.16.0)\r\n"
     ]
    }
   ],
   "source": [
    "!pip install boto3"
   ]
  },
  {
   "cell_type": "markdown",
   "metadata": {},
   "source": [
    "### Created Bucket in S3 named as \"group-5-sec-2-nikkirastogi-lab-3\""
   ]
  },
  {
   "cell_type": "code",
   "execution_count": 3,
   "metadata": {},
   "outputs": [
    {
     "name": "stdout",
     "output_type": "stream",
     "text": [
      "Bucket \"group-5-sec-2-nikkirastogi-lab-3\" created successfully.\n"
     ]
    }
   ],
   "source": [
    "import logging\n",
    "import boto3\n",
    "from botocore.exceptions import ClientError\n",
    "\n",
    "def create_bucket(bucket_name, region=None):\n",
    "    \"\"\"Create an S3 bucket in a specified region. If a region is not specified,\n",
    "    the bucket is created in the S3 default region (us-east-1).\n",
    "\n",
    "    :param bucket_name: Bucket to create\n",
    "    :param region: String region to create bucket in, e.g., 'us-east-2'\n",
    "    :return: True if bucket created, else False\n",
    "    \"\"\"\n",
    "    try:\n",
    "        if region is None:\n",
    "            s3_client = boto3.client('s3')\n",
    "            s3_client.create_bucket(Bucket=bucket_name)\n",
    "        else:\n",
    "            s3_client = boto3.client('s3', region_name=region)\n",
    "            location = {'LocationConstraint': region}\n",
    "            s3_client.create_bucket(Bucket=bucket_name, CreateBucketConfiguration=location)\n",
    "    except ClientError as e:\n",
    "        logging.error(e)\n",
    "        return False\n",
    "    return True\n",
    "\n",
    "# Attempt to create the bucket\n",
    "bucket_name = 'group-5-sec-2-nikkirastogi-lab-3'  # Ensure this is globally unique and all lowercase\n",
    "region = 'us-east-2'  # Specify your region\n",
    "\n",
    "if create_bucket(bucket_name, region):\n",
    "    print(f'Bucket \"{bucket_name}\" created successfully.')\n",
    "else:\n",
    "    print(f'Failed to create bucket \"{bucket_name}\". Please check the logs for more details.')\n"
   ]
  },
  {
   "cell_type": "markdown",
   "metadata": {
    "id": "vnn-pfSWCXfi"
   },
   "source": [
    "## Step 4: Write Python Function to Upload Data to S3\n"
   ]
  },
  {
   "cell_type": "code",
   "execution_count": 4,
   "metadata": {
    "id": "Ja7gCT4CCVt4"
   },
   "outputs": [],
   "source": [
    "import json\n",
    "\n",
    "def upload_to_s3(bucket_name, file_name, data):\n",
    "    s3 = boto3.client('s3')\n",
    "    s3.put_object(Bucket=bucket_name, Key=file_name, Body=json.dumps(data))"
   ]
  },
  {
   "cell_type": "markdown",
   "metadata": {
    "id": "G795_fa1CcgS"
   },
   "source": [
    "## Step 5: Combine the Functions in a Script\n"
   ]
  },
  {
   "cell_type": "code",
   "execution_count": 5,
   "metadata": {
    "colab": {
     "base_uri": "https://localhost:8080/"
    },
    "id": "qObZbAK8Ce9C",
    "outputId": "05c3b5f4-c8d8-4dc7-9cad-cb833493f762"
   },
   "outputs": [
    {
     "name": "stdout",
     "output_type": "stream",
     "text": [
      "Data uploaded successfully to S3\n"
     ]
    }
   ],
   "source": [
    "# Main execution\n",
    "api_key = \"17dcac13e2420593d682db6389f9abfb\"   # API key\n",
    "city = \"London\"  # desired city\n",
    "bucket_name = \"group-5-sec-2-nikkirastogi-lab-3\"  # S3 bucket name\n",
    "file_name = \"weather_data.json\"\n",
    "\n",
    "try:\n",
    "    weather_data = get_weather_data(city, api_key)\n",
    "    upload_to_s3(bucket_name, file_name, weather_data)\n",
    "    print(\"Data uploaded successfully to S3\")\n",
    "except Exception as e:\n",
    "    print(f\"An error occurred: {e}\")"
   ]
  },
  {
   "cell_type": "markdown",
   "metadata": {
    "id": "0O_jA3tBCVJY"
   },
   "source": [
    "### Check data is uploaded or not"
   ]
  },
  {
   "cell_type": "code",
   "execution_count": 6,
   "metadata": {
    "colab": {
     "base_uri": "https://localhost:8080/"
    },
    "id": "WlFDrpu_Co3T",
    "outputId": "62eba14a-296a-4d75-b03c-4506d47983fd"
   },
   "outputs": [
    {
     "name": "stdout",
     "output_type": "stream",
     "text": [
      "{'coord': {'lon': -0.1257, 'lat': 51.5085}, 'weather': [{'id': 802, 'main': 'Clouds', 'description': 'scattered clouds', 'icon': '03d'}], 'base': 'stations', 'main': {'temp': 286.03, 'feels_like': 285.31, 'temp_min': 284.79, 'temp_max': 286.91, 'pressure': 1007, 'humidity': 74}, 'visibility': 10000, 'wind': {'speed': 8.94, 'deg': 250, 'gust': 13.41}, 'clouds': {'all': 40}, 'dt': 1712476077, 'sys': {'type': 2, 'id': 2075535, 'country': 'GB', 'sunrise': 1712467283, 'sunset': 1712515396}, 'timezone': 3600, 'id': 2643743, 'name': 'London', 'cod': 200}\n"
     ]
    }
   ],
   "source": [
    "# Example usage\n",
    "api_key = \"17dcac13e2420593d682db6389f9abfb\"  # actual API key\n",
    "city = \"London\"\n",
    "try:\n",
    "    weather_data = get_weather_data(city, api_key)\n",
    "    print(weather_data)\n",
    "except Exception as e:\n",
    "    print(f\"An error occurred: {e}\")"
   ]
  },
  {
   "cell_type": "markdown",
   "metadata": {},
   "source": [
    "# Assignment: Groups to Convert JSON to CSV\n",
    "\n",
    "Step 1. Take the JSON output and convert it to a Dataframe using pandas"
   ]
  },
  {
   "cell_type": "code",
   "execution_count": 7,
   "metadata": {},
   "outputs": [],
   "source": [
    "import pandas as pd\n",
    "\n",
    "# Convert to DataFrame\n",
    "def flatten_json(json_obj, prefix=''):\n",
    "    \"\"\"\n",
    "    Flatten a JSON object into a dictionary with flattened keys.\n",
    "\n",
    "    Args:\n",
    "        json_obj (dict): The JSON object to flatten.\n",
    "        prefix (str): Prefix to prepend to flattened keys.\n",
    "\n",
    "    Returns:\n",
    "        dict: Flattened dictionary.\n",
    "    \"\"\"\n",
    "    flat_dict = {}  # Initialize an empty dictionary to store flattened key-value pairs\n",
    "    for key, value in json_obj.items():  \n",
    "        if isinstance(value, dict):  \n",
    "            flat_dict.update(flatten_json(value, prefix + key + '_'))  \n",
    "        elif isinstance(value, list):  \n",
    "            for i, item in enumerate(value):  \n",
    "                flat_dict.update(flatten_json(item, prefix + key + '_'))  \n",
    "        else:  \n",
    "            flat_dict[prefix + key] = value  # Add the key-value pair to the flattened dictionary\n",
    "\n",
    "    return flat_dict  # Return the flattened dictionary"
   ]
  },
  {
   "cell_type": "code",
   "execution_count": 8,
   "metadata": {},
   "outputs": [
    {
     "data": {
      "text/html": [
       "<div>\n",
       "<style scoped>\n",
       "    .dataframe tbody tr th:only-of-type {\n",
       "        vertical-align: middle;\n",
       "    }\n",
       "\n",
       "    .dataframe tbody tr th {\n",
       "        vertical-align: top;\n",
       "    }\n",
       "\n",
       "    .dataframe thead th {\n",
       "        text-align: right;\n",
       "    }\n",
       "</style>\n",
       "<table border=\"1\" class=\"dataframe\">\n",
       "  <thead>\n",
       "    <tr style=\"text-align: right;\">\n",
       "      <th></th>\n",
       "      <th>coord_lon</th>\n",
       "      <th>coord_lat</th>\n",
       "      <th>weather_id</th>\n",
       "      <th>weather_main</th>\n",
       "      <th>weather_description</th>\n",
       "      <th>weather_icon</th>\n",
       "      <th>base</th>\n",
       "      <th>main_temp</th>\n",
       "      <th>main_feels_like</th>\n",
       "      <th>main_temp_min</th>\n",
       "      <th>...</th>\n",
       "      <th>dt</th>\n",
       "      <th>sys_type</th>\n",
       "      <th>sys_id</th>\n",
       "      <th>sys_country</th>\n",
       "      <th>sys_sunrise</th>\n",
       "      <th>sys_sunset</th>\n",
       "      <th>timezone</th>\n",
       "      <th>id</th>\n",
       "      <th>name</th>\n",
       "      <th>cod</th>\n",
       "    </tr>\n",
       "  </thead>\n",
       "  <tbody>\n",
       "    <tr>\n",
       "      <th>0</th>\n",
       "      <td>-0.1257</td>\n",
       "      <td>51.5085</td>\n",
       "      <td>802</td>\n",
       "      <td>Clouds</td>\n",
       "      <td>scattered clouds</td>\n",
       "      <td>03d</td>\n",
       "      <td>stations</td>\n",
       "      <td>286.03</td>\n",
       "      <td>285.31</td>\n",
       "      <td>284.79</td>\n",
       "      <td>...</td>\n",
       "      <td>1712476077</td>\n",
       "      <td>2</td>\n",
       "      <td>2075535</td>\n",
       "      <td>GB</td>\n",
       "      <td>1712467283</td>\n",
       "      <td>1712515396</td>\n",
       "      <td>3600</td>\n",
       "      <td>2643743</td>\n",
       "      <td>London</td>\n",
       "      <td>200</td>\n",
       "    </tr>\n",
       "  </tbody>\n",
       "</table>\n",
       "<p>1 rows × 28 columns</p>\n",
       "</div>"
      ],
      "text/plain": [
       "   coord_lon  coord_lat  weather_id weather_main weather_description  \\\n",
       "0    -0.1257    51.5085         802       Clouds    scattered clouds   \n",
       "\n",
       "  weather_icon      base  main_temp  main_feels_like  main_temp_min  ...  \\\n",
       "0          03d  stations     286.03           285.31         284.79  ...   \n",
       "\n",
       "           dt  sys_type   sys_id  sys_country  sys_sunrise  sys_sunset  \\\n",
       "0  1712476077         2  2075535           GB   1712467283  1712515396   \n",
       "\n",
       "   timezone       id    name  cod  \n",
       "0      3600  2643743  London  200  \n",
       "\n",
       "[1 rows x 28 columns]"
      ]
     },
     "execution_count": 8,
     "metadata": {},
     "output_type": "execute_result"
    }
   ],
   "source": [
    "# Flatten the JSON-like data\n",
    "dict_csv = flatten_json(weather_data)\n",
    "\n",
    "# Create DataFrame from flattened dictionary\n",
    "df = pd.DataFrame([dict_csv])\n",
    "\n",
    "# Print DataFrame\n",
    "df"
   ]
  },
  {
   "cell_type": "markdown",
   "metadata": {},
   "source": [
    "##### Step 2. Now upload the CSV file to the 'group-5-sec-2-nikkirastogi-lab-3' S3 bucket in the cloud with the following naming convention: <group-5-sec-2-nikkirastogi-lab-3>_weather_date_london_<datetimestamp>.csv"
   ]
  },
  {
   "cell_type": "code",
   "execution_count": 9,
   "metadata": {},
   "outputs": [
    {
     "name": "stdout",
     "output_type": "stream",
     "text": [
      "Data as csv uploaded successfully to S3\n"
     ]
    }
   ],
   "source": [
    "from datetime import datetime\n",
    "\n",
    "# Create a timestamp for the filename\n",
    "timestamp = datetime.utcfromtimestamp(weather_data['dt']).strftime('%Y-%m-%d_%H%M%S')\n",
    "filename = f\"group_5-sec_2_nikkirastogi_weather_date_london_{timestamp}.csv\"  # actual group name\n",
    "\n",
    "# Save to CSV\n",
    "df.to_csv(filename, index=False)\n",
    "\n",
    "# Now, for uploading to S3, ensure you have boto3 installed and configured\n",
    "def upload_csv_to_s3(bucket_name, file_name, object_name=None):\n",
    "    if object_name is None:\n",
    "        object_name = file_name\n",
    "    s3_client = boto3.client('s3')\n",
    "    response = s3_client.upload_file(file_name, bucket_name, object_name)\n",
    "\n",
    "# Upload the file\n",
    "try:\n",
    "    bucket_name = 'group-5-sec-2-nikkirastogi-lab-3'  # S3 bucket name\n",
    "    upload_csv_to_s3(bucket_name, filename)\n",
    "    print(\"Data as csv uploaded successfully to S3\")\n",
    "except Exception as e:\n",
    "    print(f\"An error occurred: {e}\")\n",
    "\n",
    "### END CODE ###"
   ]
  },
  {
   "cell_type": "markdown",
   "metadata": {},
   "source": [
    "##### Thank you"
   ]
  }
 ],
 "metadata": {
  "colab": {
   "provenance": []
  },
  "kernelspec": {
   "display_name": "Python 3 (ipykernel)",
   "language": "python",
   "name": "python3"
  },
  "language_info": {
   "codemirror_mode": {
    "name": "ipython",
    "version": 3
   },
   "file_extension": ".py",
   "mimetype": "text/x-python",
   "name": "python",
   "nbconvert_exporter": "python",
   "pygments_lexer": "ipython3",
   "version": "3.11.5"
  }
 },
 "nbformat": 4,
 "nbformat_minor": 1
}
