{
 "cells": [
  {
   "cell_type": "code",
   "execution_count": 1,
   "id": "ba778c2d",
   "metadata": {},
   "outputs": [
    {
     "name": "stdout",
     "output_type": "stream",
     "text": [
      "Requirement already satisfied: boto3 in c:\\users\\hegde\\anaconda3\\lib\\site-packages (1.21.32)\n",
      "Requirement already satisfied: botocore<1.25.0,>=1.24.32 in c:\\users\\hegde\\anaconda3\\lib\\site-packages (from boto3) (1.24.46)\n",
      "Requirement already satisfied: jmespath<2.0.0,>=0.7.1 in c:\\users\\hegde\\anaconda3\\lib\\site-packages (from boto3) (0.10.0)\n",
      "Requirement already satisfied: s3transfer<0.6.0,>=0.5.0 in c:\\users\\hegde\\anaconda3\\lib\\site-packages (from boto3) (0.5.2)\n",
      "Requirement already satisfied: python-dateutil<3.0.0,>=2.1 in c:\\users\\hegde\\anaconda3\\lib\\site-packages (from botocore<1.25.0,>=1.24.32->boto3) (2.8.2)\n",
      "Requirement already satisfied: urllib3<1.27,>=1.25.4 in c:\\users\\hegde\\anaconda3\\lib\\site-packages (from botocore<1.25.0,>=1.24.32->boto3) (1.26.9)\n",
      "Requirement already satisfied: six>=1.5 in c:\\users\\hegde\\anaconda3\\lib\\site-packages (from python-dateutil<3.0.0,>=2.1->botocore<1.25.0,>=1.24.32->boto3) (1.16.0)\n"
     ]
    }
   ],
   "source": [
    "!pip install boto3"
   ]
  },
  {
   "cell_type": "code",
   "execution_count": 2,
   "id": "15f0103c",
   "metadata": {},
   "outputs": [],
   "source": [
    "\n",
    "import requests\n",
    "import boto3\n",
    "import json\n",
    "import pandas as pd\n"
   ]
  },
  {
   "cell_type": "code",
   "execution_count": 3,
   "id": "6c2a18b2",
   "metadata": {},
   "outputs": [],
   "source": [
    "weather_data_url = \"https://api.openweathermap.org/data/2.5/weather\"\n",
    "api_key = \"5a86031666828de795f0334121f9c1bb\"   # Replace with your API key\n",
    "city1 = \"Tampa\"  # Replace with desired city\n",
    "city2 = \"London\"\n",
    "bucket_name = \"akabuck-1\"  # Replace with your S3 bucket name\n",
    "group_name = \"Group_5\"\n"
   ]
  },
  {
   "cell_type": "code",
   "execution_count": 4,
   "id": "d719a30b",
   "metadata": {},
   "outputs": [],
   "source": [
    "def get_file_name(city,formatt):\n",
    "    return group_name+\"_weather_data_\"+city+\".\"+formatt"
   ]
  },
  {
   "cell_type": "code",
   "execution_count": 5,
   "id": "83786ad9",
   "metadata": {},
   "outputs": [],
   "source": [
    "def get_weather_data(city):\n",
    "  \n",
    "    params = {'q': city, 'appid': api_key}\n",
    "    response = requests.get(weather_data_url, params=params)\n",
    "    if response.status_code == 200:\n",
    "        return response.json()\n",
    "    else:\n",
    "        raise Exception(\"Failed to fetch weather data\")"
   ]
  },
  {
   "cell_type": "code",
   "execution_count": 6,
   "id": "c8afd08f",
   "metadata": {},
   "outputs": [],
   "source": [
    "def upload_to_s3(bucket_name, file_name, data):\n",
    "    s3 = boto3.client('s3')\n",
    "    s3.put_object(Bucket=bucket_name, Key=file_name, Body= data)"
   ]
  },
  {
   "cell_type": "code",
   "execution_count": 7,
   "id": "3282f45c",
   "metadata": {},
   "outputs": [],
   "source": [
    "\n",
    "def get_weather_upload_s3(city,format=\"json\"):\n",
    "    \n",
    "    try:\n",
    "        weather_data_json = get_weather_data(city)\n",
    "        if format.lower() == \"csv\":\n",
    "            weather_data = get_csv_for_json(weather_data_json)\n",
    "            file_name = get_file_name(city,\"csv\")\n",
    "            \n",
    "        else:\n",
    "            weather_data = json.dumps(weather_data_json)\n",
    "            file_name = get_file_name(city,\"json\")\n",
    "            \n",
    "        upload_to_s3(bucket_name, file_name, weather_data)\n",
    "        print(f\"Data uploaded successfully to S3 {bucket_name} with filename {file_name}\")\n",
    "    except Exception as e:\n",
    "        print(f\"An error occurred: {e}\")\n",
    "        \n",
    "            "
   ]
  },
  {
   "cell_type": "code",
   "execution_count": 8,
   "id": "02f87405",
   "metadata": {},
   "outputs": [],
   "source": [
    "def get_csv_for_json (data_json):\n",
    "    \n",
    "    pd.set_option('display.max_columns', None)\n",
    "    pd.set_option('display.max_rows', None)\n",
    "\n",
    "    # Converting json to dataframe\n",
    "    flattened_data = pd.json_normalize(data_json) # Flatten the JSON data\n",
    "\n",
    "    # Flatten 'weather' column separately with prefix\n",
    "    weather_data_norm = pd.json_normalize(data_json['weather']).add_prefix('weather.')\n",
    "\n",
    "    # Merge the two DataFrames\n",
    "    df = pd.concat([flattened_data, weather_data_norm], axis=1)\n",
    "    df = df.drop(columns = ['weather'], axis = 1) # drop the weather column\n",
    "    csv_content = df.to_csv(index=False)\n",
    "    return csv_content.encode('utf-8')\n",
    "\n"
   ]
  },
  {
   "cell_type": "code",
   "execution_count": 9,
   "id": "60068a21",
   "metadata": {},
   "outputs": [
    {
     "name": "stdout",
     "output_type": "stream",
     "text": [
      "Data uploaded successfully to S3 akabuck-1 with filename Group_5_weather_data_Tampa.json\n",
      "Data uploaded successfully to S3 akabuck-1 with filename Group_5_weather_data_London.json\n"
     ]
    }
   ],
   "source": [
    "get_weather_upload_s3(city1)#upload with json\n",
    "get_weather_upload_s3(city2,\"json\")"
   ]
  },
  {
   "cell_type": "code",
   "execution_count": 10,
   "id": "a0639473",
   "metadata": {},
   "outputs": [
    {
     "name": "stdout",
     "output_type": "stream",
     "text": [
      "Data uploaded successfully to S3 akabuck-1 with filename Group_5_weather_data_Tampa.csv\n",
      "Data uploaded successfully to S3 akabuck-1 with filename Group_5_weather_data_London.csv\n"
     ]
    }
   ],
   "source": [
    "get_weather_upload_s3(city1,\"csv\")#upload with csv\n",
    "get_weather_upload_s3(city2,\"csv\")"
   ]
  }
 ],
 "metadata": {
  "kernelspec": {
   "display_name": "Python 3 (ipykernel)",
   "language": "python",
   "name": "python3"
  },
  "language_info": {
   "codemirror_mode": {
    "name": "ipython",
    "version": 3
   },
   "file_extension": ".py",
   "mimetype": "text/x-python",
   "name": "python",
   "nbconvert_exporter": "python",
   "pygments_lexer": "ipython3",
   "version": "3.9.12"
  }
 },
 "nbformat": 4,
 "nbformat_minor": 5
}
